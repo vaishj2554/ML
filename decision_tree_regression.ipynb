{
 "cells": [
  {
   "cell_type": "code",
   "execution_count": 3,
   "id": "8570f969-cf6e-45e5-8500-91d9a5603bee",
   "metadata": {},
   "outputs": [],
   "source": [
    "from sklearn.datasets import fetch_california_housing  \n",
    "from sklearn.tree import DecisionTreeRegressor\n",
    "from sklearn.model_selection import train_test_split, GridSearchCV\n",
    "from sklearn.metrics import mean_squared_error, r2_score\n",
    "import numpy as np\n",
    "\n"
   ]
  },
  {
   "cell_type": "code",
   "execution_count": 5,
   "id": "e3b4bd25-b44d-4385-9a5b-18c1752d5a1f",
   "metadata": {},
   "outputs": [],
   "source": [
    "# Load a Regression Dataset\n",
    "data = fetch_california_housing()\n",
    "X_train, X_test, y_train, y_test = train_test_split(data.data, data.target, test_size=0.2, random_state=42)\n",
    "\n",
    "# Define Model & Hyperparameter Grid\n",
    "regressor = DecisionTreeRegressor()\n",
    "\n",
    "param_grid = {\n",
    "    'criterion': ['squared_error', 'friedman_mse', 'absolute_error', 'poisson'], \n",
    "    'max_depth': [3, 5, 10, None],\n",
    "    'min_samples_split': [2, 5, 10],\n",
    "    'max_features': ['sqrt', 'log2', None]\n",
    "}\n",
    "\n"
   ]
  },
  {
   "cell_type": "code",
   "execution_count": null,
   "id": "51d1edd9-84af-44f5-9b8c-f8312b145fc6",
   "metadata": {},
   "outputs": [],
   "source": [
    "#  Apply GridSearchCV\n",
    "cv = GridSearchCV(regressor, param_grid, cv=5, scoring='r2', error_score='raise', n_jobs=-1)\n",
    "cv.fit(X_train, y_train)\n",
    "\n",
    "# Train the Best Model\n",
    "best_params = cv.best_params_\n",
    "best_regressor = DecisionTreeRegressor(**best_params)\n",
    "best_regressor.fit(X_train, y_train)\n",
    "\n"
   ]
  },
  {
   "cell_type": "code",
   "execution_count": 11,
   "id": "3da2eda3-5930-4b47-8dc6-94443d230931",
   "metadata": {},
   "outputs": [
    {
     "name": "stdout",
     "output_type": "stream",
     "text": [
      "Best Parameters: {'criterion': 'poisson', 'max_depth': 10, 'max_features': None, 'min_samples_split': 5}\n",
      "RMSE: 0.6341\n",
      "R² Score: 0.6932\n"
     ]
    }
   ],
   "source": [
    "# Evaluate the Model\n",
    "y_pred = best_regressor.predict(X_test)\n",
    "rmse = np.sqrt(mean_squared_error(y_test, y_pred))\n",
    "r2 = r2_score(y_test, y_pred)\n",
    "\n",
    "print(f\"Best Parameters: {cv.best_params_}\")\n",
    "print(f\"RMSE: {rmse:.4f}\")\n",
    "print(f\"R² Score: {r2:.4f}\")\n",
    "\n"
   ]
  },
  {
   "cell_type": "code",
   "execution_count": null,
   "id": "298a3776-cd2b-4a6b-b87e-808f14ba0a7a",
   "metadata": {},
   "outputs": [],
   "source": []
  }
 ],
 "metadata": {
  "kernelspec": {
   "display_name": "Python 3 (ipykernel)",
   "language": "python",
   "name": "python3"
  },
  "language_info": {
   "codemirror_mode": {
    "name": "ipython",
    "version": 3
   },
   "file_extension": ".py",
   "mimetype": "text/x-python",
   "name": "python",
   "nbconvert_exporter": "python",
   "pygments_lexer": "ipython3",
   "version": "3.12.4"
  }
 },
 "nbformat": 4,
 "nbformat_minor": 5
}
